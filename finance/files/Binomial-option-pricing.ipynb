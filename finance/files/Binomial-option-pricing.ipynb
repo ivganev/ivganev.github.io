{
 "cells": [
  {
   "attachments": {},
   "cell_type": "markdown",
   "metadata": {},
   "source": [
    "# Binomial options pricing model.\n",
    "\n",
    "This is a notebook about the Binomial Options Pricing model. Our main reference is \"Introduction to the Mathematics of Finance\" by Steven Roman (2nd Edition, Springer, 2012).\n",
    "\n",
    "## Formulation\n",
    "\n",
    "Variables:\n",
    "\n",
    "* $u$ is the up-tick factor\n",
    "* $d$ is the down-tick factor\n",
    "* $r$ is the (constant) risk-free interest rate\n",
    "* $S_0$ is the initial value of the stock\n",
    "* $K$ is the strike price of an option\n",
    "* $T$ is the number of time intervals\n",
    "* $\\Delta t$ is the size of a single time interval\n",
    "\n",
    "For a real number $x$, let $(x)^+ = \\mathrm{ReLU}(x) = \\mathrm{max}(0,x)$. The initial value of a call option (resp. put option) with strike price $K$ and expiry date after $T \\Delta t$ units of time is given by:\n",
    "\n",
    "$$ \\mathcal I_0(\\mathrm{call}) = e^{-rT\\Delta t} \\sum_{k=0}^T { n \\choose k} \\left( S_0 u^k d^{T-k} - K\\right)^+ \\pi^k (1-\\pi)^{T-k},$$\n",
    "\n",
    "$$ \\mathcal I_0(\\mathrm{put}) = e^{-rT\\Delta t} \\sum_{k=0}^T { n \\choose k} \\left( K - S_0 u^k d^{T-k} \\right)^+ \\pi^k (1-\\pi)^{T-k},$$\n",
    "\n",
    "where $\\pi$ is the risk-free (or martingale) up-tick probability, and is given by \n",
    "\n",
    "$$\\pi = \\frac{e^{r\\Delta t} - d}{u-d}.$$\n",
    "\n",
    "The model is free of arbitrage if and only if $d < e^{r \\Delta t} < u$. We also have: $1-\\pi = \\frac{u - e^{r \\Delta t}}{u-d}$. Note that the actual, real-world probability of an up-tick or down-tick are not relevant for computing the initial value of a call option. \n",
    "\n",
    "### Special case: $T = 1$\n",
    "\n",
    "When there is only one time step, we have:\n",
    "\n",
    "$$ \\mathcal I_0(\\mathrm{call}) = e^{-r\\Delta t} \\left(  \\left(u S_0  - K\\right)^+ \\pi +  \\left(d S_0 - K \\right)^+ (1-\\pi) \\right),$$\n",
    "\n",
    "$$ \\mathcal I_0(\\mathrm{put}) = e^{-r\\Delta t} \\left(  \\left(K - u S_0 \\right)^+ \\pi +  \\left(K - d S_0  \\right)^+ (1-\\pi) \\right).$$\n",
    "\n",
    "For a single time step, it is generally the case that $dS_0 < K < u S_0$, so that the equations reduce to:\n",
    "\n",
    "$$ \\mathcal I_0(\\mathrm{call}) = e^{-r\\Delta t}  \\left(u S_0  - K\\right) \\pi, \\qquad \\qquad \\mathcal I_0(\\mathrm{put}) = e^{-r\\Delta t}   \\left(K - d S_0  \\right) (1-\\pi).$$\n",
    "\n",
    "\n",
    "### Special case: $ud = 1$\n",
    "\n",
    "The martingale up-tick probability becomes: $\\pi = \\frac{u e^{r \\Delta t} - 1 }{u^2 - 1}$. Also $S_0 u^k d^{T-k} = S_0 u^{2k - T}$.  If, in addtion, the interest rate is zero, then $\\pi = \\frac{1}{u+1}$ and $1 - \\pi = \\frac{u}{u+1}$, so the formulas reduce to:\n",
    "\n",
    "$$ \\mathcal I_0(\\mathrm{call}) = \\frac{1}{(u+1)^{T+1}} \\sum_{k=0}^T { n \\choose k} \\left( S_0 u^{2k-T} - K\\right)^+ u^{T-k},$$\n",
    "\n",
    "$$ \\mathcal I_0(\\mathrm{put}) = \\frac{1}{(u+1)^{T+1}}  \\sum_{k=0}^T { n \\choose k} \\left( K - S_0 u^{2k-T} \\right)^+  u^{T-k},$$\n",
    "\n",
    "\n",
    "<!--\n",
    "\n",
    "### References\n",
    "\n",
    "* \"Introduction to the Mathematics of Finance: Arbitrage and Options Pricing\" by Steven Roman\n",
    "* https://tv-prod.s3.amazonaws.com/documents%2Fnull-Binomial+Option+Pricing+_f-0943_.pdf\n",
    "* https://demonstrations.wolfram.com/BinomialOptionPricingModel/\n",
    "* https://en.wikipedia.org/wiki/Binomial_options_pricing_model\n",
    "-->"
   ]
  },
  {
   "attachments": {},
   "cell_type": "markdown",
   "metadata": {},
   "source": [
    "## Code"
   ]
  },
  {
   "cell_type": "code",
   "execution_count": 1,
   "metadata": {},
   "outputs": [],
   "source": [
    "from math import exp\n",
    "\n",
    "def choose(k,n):\n",
    "    a = 1\n",
    "    for i in range(k):\n",
    "        a *= (n-i)/(i+1)\n",
    "    return a\n",
    "\n",
    "def relu(x):\n",
    "    return max(0,x)"
   ]
  },
  {
   "cell_type": "code",
   "execution_count": 2,
   "metadata": {},
   "outputs": [],
   "source": [
    "def prob(u,d,r, dt):\n",
    "    interest = exp(r*dt)\n",
    "    assert d < interest and interest < u, \"There is no probability eliminating arbitrage\"\n",
    "    return (interest - d)/(u-d)\n",
    "\n",
    "def initial_call_price(u, d, S0, K, dt, T, r):\n",
    "    pi = prob(u,d,r, dt)\n",
    "    answer = 0\n",
    "    for k in range(T+1):\n",
    "        Sfinal = S0*(u**k)*(d**(T-k))\n",
    "        probability = (pi**k)*((1-pi)**(T-k))\n",
    "        answer += exp(-r*dt*T)*choose(k,T)*relu(Sfinal - K)*probability\n",
    "    return answer\n",
    "\n",
    "def initial_put_price(u, d, S0, K, dt, T, r):\n",
    "    pi = prob(u,d,r, dt)\n",
    "    answer = 0\n",
    "    for k in range(T+1):\n",
    "        Sfinal = S0*(u**k)*(d**(T-k))\n",
    "        probability = (pi**k)*((1-pi)**(T-k))\n",
    "        answer += exp(-r*dt*T)*choose(k,T)*relu(K - Sfinal)*probability\n",
    "    return answer"
   ]
  },
  {
   "attachments": {},
   "cell_type": "markdown",
   "metadata": {},
   "source": [
    "## Examples and Exercises\n",
    "\n",
    "<!-- # Check the choose function by printing the first few rows of Pascal's triangle\n",
    "\n",
    "for n in range(15):\n",
    "    print()\n",
    "    for k in range(n+1):\n",
    "        print(int(choose(k,n)), end = \" \")-->"
   ]
  },
  {
   "attachments": {},
   "cell_type": "markdown",
   "metadata": {},
   "source": [
    "### Example 6.1 from Roman\n",
    "\n",
    "(\"Introduction to the Mathematics of Finance\" by Steven Roman. 2nd Edition, Springer, 2012.)"
   ]
  },
  {
   "cell_type": "code",
   "execution_count": 3,
   "metadata": {},
   "outputs": [
    {
     "name": "stdout",
     "output_type": "stream",
     "text": [
      "Up-tick probability: \t 0.5417\n",
      "\n",
      "Initial call option price with strike price 102 : \t 0.0029\n",
      "Initial call option price with strike price 101 : \t 0.2959\n",
      "Initial call option price with strike price 100 : \t 0.5888\n",
      "Initial call option price with strike price 99 : \t 1.3725\n",
      "Initial call option price with strike price 98 : \t 2.1632\n",
      "Initial call option price with strike price 97 : \t 3.1615\n",
      "\n",
      "Initial put option price with strike price 102 : \t 1.8331\n",
      "Initial put option price with strike price 101 : \t 1.1277\n",
      "Initial put option price with strike price 100 : \t 0.4223\n",
      "Initial put option price with strike price 99 : \t 0.2076\n",
      "Initial put option price with strike price 98 : \t 0.0\n",
      "Initial put option price with strike price 97 : \t 0.0\n"
     ]
    }
   ],
   "source": [
    "pri = prob(1.01, 0.99, 0.01/12, 1)\n",
    "print(f\"Up-tick probability: \\t {round(pri, 4)}\")\n",
    "print()\n",
    "\n",
    "Ks = [102,101, 100, 99, 98, 97]\n",
    "\n",
    "for K in Ks:\n",
    "    print(f\"Initial call option price with strike price {K} : \\t {round(initial_call_price(1.01, 0.99, 100, K, 1, 2, 0.01/12),4)}\")\n",
    "\n",
    "print()\n",
    "for K in Ks:\n",
    "    print(f\"Initial put option price with strike price {K} : \\t {round(initial_put_price(1.01, 0.99, 100, K, 1, 2, 0.01/12),4)}\")\n"
   ]
  },
  {
   "attachments": {},
   "cell_type": "markdown",
   "metadata": {},
   "source": [
    "### Exercise 6.1 in Roman"
   ]
  },
  {
   "cell_type": "code",
   "execution_count": 4,
   "metadata": {},
   "outputs": [
    {
     "name": "stdout",
     "output_type": "stream",
     "text": [
      "Up-tick martingale probability: \t 0.5042\n",
      "\n",
      "Initial call option price with strike price 52: \t 2.157\n",
      "Initial call option price with strike price 51: \t 2.4107\n",
      "Initial call option price with strike price 50: \t 2.6645\n",
      "Initial call option price with strike price 49: \t 3.1678\n",
      "Initial call option price with strike price 48: \t 3.9207\n",
      "Initial call option price with strike price 47: \t 4.6736\n",
      "\n",
      "Initial put option price with strike price 52: \t \t 4.0704\n",
      "Initial put option price with strike price 51: \t \t 3.3258\n",
      "Initial put option price with strike price 50: \t \t 2.5812\n",
      "Initial put option price with strike price 49: \t \t 2.0862\n",
      "Initial put option price with strike price 48: \t \t 1.8408\n",
      "Initial put option price with strike price 47: \t \t 1.5954\n"
     ]
    }
   ],
   "source": [
    "pri = prob(1.1, 0.9, 0.01/12, 1)\n",
    "print(f\"Up-tick martingale probability: \\t {round(pri, 4)}\")\n",
    "print()\n",
    "\n",
    "Ks = [52, 51, 50, 49, 48, 47]\n",
    "\n",
    "for K in Ks:\n",
    "    print(f\"Initial call option price with strike price {K}: \\t {round(initial_call_price(1.1, 0.9, 50, K, 1, 2, 0.01/12),4)}\")\n",
    "\n",
    "print()\n",
    "for K in Ks:\n",
    "    print(f\"Initial put option price with strike price {K}: \\t \\t {round(initial_put_price(1.1, 0.9, 50, K, 1, 2, 0.01/12),4)}\")"
   ]
  },
  {
   "attachments": {},
   "cell_type": "markdown",
   "metadata": {},
   "source": [
    "### Exercise 6.2 in Roman"
   ]
  },
  {
   "cell_type": "code",
   "execution_count": 5,
   "metadata": {},
   "outputs": [
    {
     "name": "stdout",
     "output_type": "stream",
     "text": [
      "Up-tick probability: \t 0.6722\n",
      "\n",
      "Initial call option price with strike price 12: 0.0\n",
      "Initial call option price with strike price 11: 0.0113\n",
      "Initial call option price with strike price 10: 0.4624\n",
      "Initial call option price with strike price 9: 1.1115\n",
      "Initial call option price with strike price 8: 2.0133\n",
      "\n",
      "Initial put option price with strike price 12: 1.98\n",
      "Initial put option price with strike price 11: 0.993\n",
      "Initial put option price with strike price 10: 0.4458\n",
      "Initial put option price with strike price 9: 0.0965\n",
      "Initial put option price with strike price 8: 0.0\n"
     ]
    }
   ],
   "source": [
    "pri = prob(1.05, 0.9, 0.01/12, 1)\n",
    "print(f\"Up-tick probability: \\t {round(pri, 4)}\")\n",
    "print()\n",
    "\n",
    "Ks = [12, 11, 10, 9, 8]\n",
    "\n",
    "for K in Ks:\n",
    "    print(f\"Initial call option price with strike price {K}: {round(initial_call_price(1.05, 0.9, 10, K, 1, 2, 0.01/12),4)}\")\n",
    "\n",
    "print()\n",
    "for K in Ks:\n",
    "    print(f\"Initial put option price with strike price {K}: {round(initial_put_price(1.05, 0.9, 10, K, 1, 2, 0.01/12),4)}\")"
   ]
  },
  {
   "cell_type": "code",
   "execution_count": 6,
   "metadata": {},
   "outputs": [
    {
     "name": "stdout",
     "output_type": "stream",
     "text": [
      "Up-tick martingale probability: \t 0.3389\n",
      "\n",
      "Initial call option price with strike price 12: 0.0115\n",
      "Initial call option price with strike price 11: 0.1261\n",
      "Initial call option price with strike price 10: 0.4421\n",
      "Initial call option price with strike price 9: 1.015\n",
      "Initial call option price with strike price 8: 2.0133\n",
      "\n",
      "Initial put option price with strike price 12: 1.9915\n",
      "Initial put option price with strike price 11: 1.1078\n",
      "Initial put option price with strike price 10: 0.4254\n",
      "Initial put option price with strike price 9: 0.0\n",
      "Initial put option price with strike price 8: 0.0\n"
     ]
    }
   ],
   "source": [
    "## Variation wth a higher u and lower d\n",
    "\n",
    "pri = prob(1.1, 0.95, 0.01/12, 1)\n",
    "print(f\"Up-tick martingale probability: \\t {round(pri, 4)}\")\n",
    "print()\n",
    "\n",
    "Ks = [12, 11, 10, 9, 8]\n",
    "\n",
    "for K in Ks:\n",
    "    print(f\"Initial call option price with strike price {K}: {round(initial_call_price(1.1, 0.95, 10, K, 1, 2, 0.01/12),4)}\")\n",
    "\n",
    "print()\n",
    "for K in Ks:\n",
    "    print(f\"Initial put option price with strike price {K}: {round(initial_put_price(1.1, 0.95, 10, K, 1, 2, 0.01/12),4)}\")"
   ]
  },
  {
   "attachments": {},
   "cell_type": "markdown",
   "metadata": {},
   "source": [
    "### Exercise 6.3 in Roman"
   ]
  },
  {
   "cell_type": "code",
   "execution_count": 7,
   "metadata": {},
   "outputs": [
    {
     "name": "stdout",
     "output_type": "stream",
     "text": [
      "The possible values are: \n",
      "\t 102.01 \n",
      "\t 99.99 \n",
      "\t 99.99 \n",
      "\t 98.01 \n",
      "\n",
      "Three of these four values are below 100.\n",
      "Assuming equal real-world up-tick and down-tick probabilities, the probability of a loss is 3/4.\n"
     ]
    }
   ],
   "source": [
    "u = 1.01\n",
    "d = 0.99\n",
    "\n",
    "# The possible values are:\n",
    "print(f\"The possible values are: \\n\\t {100*u*u} \\n\\t {100*u*d} \\n\\t {100*d*u} \\n\\t {100*d*d} \\n\")\n",
    "\n",
    "print(f\"Three of these four values are below 100.\")\n",
    "print(f\"Assuming equal real-world up-tick and down-tick probabilities, the probability of a loss is 3/4.\")"
   ]
  },
  {
   "attachments": {},
   "cell_type": "markdown",
   "metadata": {},
   "source": [
    "### Problem 2.3.2 in Stefanica, Radoicic, and Wang\n",
    "\n",
    "(\"150 Most Frequently Asked Questions on Quant Interviews\", by Stefanica, Radocic, and Wang. FE Press, 2019.)"
   ]
  },
  {
   "cell_type": "code",
   "execution_count": 8,
   "metadata": {},
   "outputs": [
    {
     "name": "stdout",
     "output_type": "stream",
     "text": [
      "Initial put option price with strike price K= 50: 1.2\n",
      "Up-tick martingale probability: 0.6\n",
      "Down-tick martingale probability: 0.4\n"
     ]
    }
   ],
   "source": [
    "print(f\"Initial put option price with strike price K= 50: {round(initial_put_price(52/50, 47/50, 50, 50, 1, 1, 0),4)}\")\n",
    "\n",
    "print(f\"Up-tick martingale probability: {round( prob(52/50, 47/50, 0, 1), 4)}\")\n",
    "print(f\"Down-tick martingale probability: {round( 1- prob(52/50, 47/50, 0, 1), 4)}\")"
   ]
  },
  {
   "attachments": {},
   "cell_type": "markdown",
   "metadata": {},
   "source": [
    "# Hedged portfolio\n",
    "\n",
    "We focus on the $T=1$ case and develop a hedged portfolio. Namely, we buy $H$ units of the asset and sell one call option with expiry date $\\Delta t = 1$ and strike price $K$. The constant $H$ is between 0 and 1, and is known as the hedge ratio, and is chosen so that we earn the same profit whether or not the price of the asset goes up or down. \n",
    "\n",
    "To compute the desired hedge ratio, note that our initial portfolio has value $HS_0 - C$, where $C$ is the initial cost of the call option. If there is an up-tick, it has value $uHS_0 - C_u$, where $C_u = \\textrm{max}(0, uS_0 - K)$ is the new value of the call option. If there is an uptick, our portfolio has value $dHS_0 - C_d$, where $C_d = \\textrm{max}(0, dS_0 - K)$ is the new value of the call option. Setting these two quantities to be equal and solving for $H$, we obtain:\n",
    "\n",
    "$$H = \\frac{C_u - C_d}{(u-d)S_0}.$$\n",
    "\n",
    "In order to avoid vacuous cases, we generally have $dS_0 < K < uS_0$, in which case the hedge ratio becomes:\n",
    "\n",
    "$$H = \\frac{u - K/S_0}{u-d}.$$\n",
    "\n",
    "To compute the initial cost of the call option, we set the initial portfolio value to that after a down-tick, i.e. $HS_0 - C = dHS_0$. (Equivalently, we could have set it equal to the value after an up-tick.) Sovling for $C$, we obtain:\n",
    "\n",
    "$$C = H(S_0 - dS_0) = \\frac{\\left( uS_0 - K \\right) \\left( 1-d\\right)}{u-d}$$"
   ]
  },
  {
   "cell_type": "code",
   "execution_count": 9,
   "metadata": {},
   "outputs": [],
   "source": [
    "def hedge_ratio(u, d, S0, K):\n",
    "    return (u - K/S0)/(u-d)\n",
    "\n",
    "def call_option_value(u, d, S0, K):\n",
    "    return (u*S0 - K)*(1-d)/(u-d)"
   ]
  }
 ],
 "metadata": {
  "kernelspec": {
   "display_name": "Python 3",
   "language": "python",
   "name": "python3"
  },
  "language_info": {
   "codemirror_mode": {
    "name": "ipython",
    "version": 3
   },
   "file_extension": ".py",
   "mimetype": "text/x-python",
   "name": "python",
   "nbconvert_exporter": "python",
   "pygments_lexer": "ipython3",
   "version": "3.8.2"
  },
  "orig_nbformat": 4
 },
 "nbformat": 4,
 "nbformat_minor": 2
}
